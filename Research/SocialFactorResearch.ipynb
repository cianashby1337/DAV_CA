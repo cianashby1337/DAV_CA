{
 "cells": [
  {
   "cell_type": "markdown",
   "id": "c0f3ab22",
   "metadata": {},
   "source": [
    "# LLM Usage\n",
    "I decided to use Gemini for establishing many factors I would use (Gemini 2025), as I had been quite impressed with it's functionality beforehand. As well as this, I took note of it's \"deep research\" feature, which I imagined would be well suited to the task of guiding my literature review."
   ]
  },
  {
   "cell_type": "markdown",
   "id": "98800597",
   "metadata": {},
   "source": [
    "# Determined Factors\n",
    "- Marriage rate\n",
    "- warfare/conflict\n",
    "- measures of authoritatianism, or political rights of a country in general\n",
    "- access to electricity\n",
    "- quality of healthcare\n",
    "- measure of discrimination\n",
    "- population growth (births only, to avoid changes due to migration)\n",
    "- A variable for the percentage of the population that are in some younger age group?\n",
    "- A variable for the quality of education?\n",
    "- Social media usage\n",
    "- Mobile/internet Network coverage, at households rather than public places if possible to narrow down that far\n",
    "- satisfaction/approval of the country? Happiness measures?\n",
    "- crime rate"
   ]
  },
  {
   "cell_type": "markdown",
   "id": "1ba01b71",
   "metadata": {},
   "source": [
    "# Study 1: De Haas (2010a) - Social Transformation and Migration 1\n",
    "- Reference: (De Haas and Fransen 2018) \n",
    "- Possible factors:\n",
    "\t- Warfare? (update: this is actually listed as a \"political\" factor under \"conflict\", which makes more sense)\n",
    "\t- Authoritarianism or other measures of that? Could look at political rights?\n",
    "\t- access to electricity?\n",
    "\t\n"
   ]
  },
  {
   "cell_type": "markdown",
   "id": "5e5e67a6",
   "metadata": {},
   "source": [
    "# Study 2: Zanabazar The Push and Pull Factors Affecting the Migration of Mongolians to the Republic of South Korea\n",
    "- Gemini linked the wrong study for study 2, but I found this in the references\n",
    "- Reference: (Zanabazar 2021) \n",
    "- Possible factors:\n",
    "\t- a measure of quality of healthcare?\n",
    "\t- a measure of educational quality?"
   ]
  },
  {
   "cell_type": "markdown",
   "id": "42d71b45",
   "metadata": {},
   "source": [
    "# Study 3: Mariusz Urbański Comparing Push and Pull Factors Affecting Migration\n",
    "- Once again, the wrong study was linked for study 3, so I just referenced that study instead, as it seemed to be worthwhile at first glance\n",
    "- Reference: (Urbański 2022) \n",
    "- Possible factors:\n",
    "\t- A measure of Discrimination?\n",
    "\t- A measure of medical care quality? If not, access to healthcare may suffice\n",
    "\t- \"Inadequate education systems\" - Quality/Availability? (better to do quality / educational outcomes. availability is to be an Economic factor)\n",
    "\t- Population growth?"
   ]
  },
  {
   "cell_type": "markdown",
   "id": "ecec5177",
   "metadata": {},
   "source": [
    "# Study 4: Drivers of International Migration\n",
    "- Reference: (Heins et al. 2023)  \n",
    "- Possible factors\n",
    "\t- Derived from the statement \"Mostly the young and better educated are more inclined to emigrate\", and similar kinds of statements from previous economic studies\n",
    "\t\t- A variable for the percentage of the population that are in some younger age group?\n",
    "\t\t- A variable for the quality of education?\n"
   ]
  },
  {
   "cell_type": "markdown",
   "id": "ec47410e",
   "metadata": {},
   "source": [
    "# Study 5: How Social Capital is Related to Migration Between Communities?\n",
    "- Reference: (Lorincz and Brigitta 2022) \n",
    "- Possible factors:\n",
    "\t- Derived from the focus on online social network data, as well as statements like \"At that time 5 million out of the 8.5 million adults used the internet in the country\"\n",
    "\t\t- Social media usage\n",
    "\t\t- Mobile/internet Network coverage\n",
    "- Number of hospital beds per person"
   ]
  },
  {
   "cell_type": "markdown",
   "id": "49656a3e",
   "metadata": {},
   "source": [
    "# Study 6: Social networks and the intention to migrate\n",
    "- Reference: (Manchin and Orazbayev 2018) \n",
    "- Possible factors\n",
    "\t- level of internet access (at home, if possible?)\n",
    "\t- marriage rate\n",
    "\t- satisfaction/approval of the country? Happiness measures?"
   ]
  },
  {
   "cell_type": "markdown",
   "id": "a3d47483",
   "metadata": {},
   "source": [
    "# Study 7: Migrant Social Networks: Vehicles for Migration, Integration, and Development\n",
    "- I found this study to be a bit too based on the individual, rather than the country, to consider too deeply\n",
    "- Reference: (Poros 2011) \n",
    "- Possible factors:\n",
    "\t- health care\n"
   ]
  },
  {
   "cell_type": "markdown",
   "id": "e71dfe30",
   "metadata": {},
   "source": [
    "# Study 8: Links to literature on social cohesion\n",
    "- This link, and the other link, that were provided by Gemini did not lead to a specific study, but more of a collection each. I found that the study Gemini spoke of was restricted, and access needed to be requested. I tried looking at another study but it did not detail specific factors. I ended up abandoning the searching of this reference in favour of others"
   ]
  },
  {
   "cell_type": "markdown",
   "id": "602883c9",
   "metadata": {},
   "source": [
    "# Study 9: How Durable are Social Norms? Immigrant Trust and Generosity in 132 Countries\n",
    "- Not about the decision to migrate, but still useful in reaffirming previously found factors. \n",
    "- Reference: (Helliwell et al. 2015) \n",
    "- Possible variables:\n",
    "\t- Institutional trust (approval of the government? arguably political)\n",
    "\t\t- \"Institutional trust: Feeling of confidence toward a particular organization.\" (ScienceDirect 2025) \n",
    "\t- Marriage rate"
   ]
  },
  {
   "cell_type": "markdown",
   "id": "e2fd6e19",
   "metadata": {},
   "source": [
    "# Study 10: Migrant decision-making in a frontier landscape\n",
    "- Reference: (Salemo 2016) \n",
    "- Possible Variables:\n",
    "\t- \"peaceful community\" could support the variable crime rate?\n",
    "\t- \"health centers\" could support the variable healthcare quality?\n",
    "\t- \"schools\" could support the variable education quality?\n"
   ]
  }
 ],
 "metadata": {
  "language_info": {
   "name": "python"
  }
 },
 "nbformat": 4,
 "nbformat_minor": 5
}
