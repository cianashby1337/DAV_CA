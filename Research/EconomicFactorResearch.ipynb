{
 "cells": [
  {
   "cell_type": "markdown",
   "id": "16741c5f",
   "metadata": {},
   "source": [
    "# Determined Factors\n",
    "- Income / wages (strongest)\n",
    "- Education \n",
    "- Welfare\n",
    "- Taxes\n",
    "- Population density\n",
    "- Growth (Specifically GDP per head in PPS)\n",
    "- Housing Prices\n",
    "- Home ownership"
   ]
  },
  {
   "cell_type": "markdown",
   "id": "e3bc1f37",
   "metadata": {},
   "source": [
    "# Study 1: The Microeconomic Determinants of Emigration and Return Migration of the Best and Brightest\n",
    "-\tReference: (Gibson and McKenzie 2009)\n",
    "-\tFactors of note\n",
    "\t- Income\n",
    "-\tComments\n",
    "\t- Very focused education, and those considered “highly-skilled” or “the best and the brightest”\n",
    "\t- Somewhat limited definition of migration: “We define migration as ever having worked or studied abroad after finishing secondary school”\n",
    "\t- Personally, I feel this is too limited a study to refer to in depth. It is focused too heavily on migration of high-achievers in academia, and does not represent migration on a grander scale"
   ]
  },
  {
   "cell_type": "markdown",
   "id": "ae2e9223",
   "metadata": {},
   "source": [
    "# Study 2: Modeling Individual Migration Decisions \n",
    "- Reference: (Walker and Kennan 2012)\n",
    "-\tFactors of note\n",
    "\t- Wages (income)\n",
    "\t- Education (arguably also a social factor? This needs more consideration)\n",
    "\t\t- Rate of graduation / level of education, as it has been noted that “the migration rate for skilled workers is much higher than the rate for unskilled workers”\n",
    "\t- Welfare\n",
    "-\tComments\n",
    "\t- On the topic of welfare, it heavily focuses on welfare benefits in the scope of women with children. If the factor of welfare is to carry into my own project then it should be expanded upon, potentiall with general welfare expenditure of a country instead, to suit my consideration of migration on a wider scale"
   ]
  },
  {
   "cell_type": "markdown",
   "id": "b574b1d9",
   "metadata": {},
   "source": [
    "# Study 3: Income maximization and the selection and sorting of international migrants\n",
    "-\tReference: (Grogger and Hanson 2010)\n",
    "-\tFactors of Note\n",
    "\t-\tIncome/wages\n",
    "\t-\tTaxes (different tax brackets would be an issue. Maybe the average amount of income tax for the population?)\n",
    "\t\t- “The US and Canada enjoy relatively large post-tax skill-related wage differences, which largely account for their ability to attract more educated migrants relative to other OECD countries.”\n",
    "- Comments\n",
    "\t- Gemini didn't link the correct study. I had to prompt it again to gain access"
   ]
  },
  {
   "cell_type": "markdown",
   "id": "c1c82903",
   "metadata": {},
   "source": [
    "# Study 4: Determinants of the Choice of Migration Destination\n",
    "-\tReference: (Fafchamps and Shilpi 2008)\n",
    "-\tFactors of note\n",
    "\t- Population density (also arguably a social factor, but it could be considered economic if we consider that more built-up areas naturally draw in more people)\n",
    "\t\t- “Results show that population density, social proximity and access to amenities exeret a strong influence on migrants’ choice of destination”\n",
    "\t\t- This appears to relate more to urban environments, rather than density overall. Though this would be focused on locations within a country, over countries themselves, we could add the overall population density of a country for further analysis, and discard it later if there is little correlation to the “net migration” indicator from the World Bank Group\n",
    "-\tComments\n",
    "\t- This is yet another study limited in scope, as analysis here has been limited to adult males\n",
    "\t- Social proximity and access to amenities were mentioned in this study also. Social proximity obviously falls more in line with “social” factors of migration, but even if I were to try and include it here, I do feel that both factors are not possible to accurately gather for each country"
   ]
  },
  {
   "cell_type": "markdown",
   "id": "43c3a5ac",
   "metadata": {},
   "source": [
    "# Study 5: Return migration, wage differentials, and the optimal migration duration\n",
    "-\tReference: (Dustmann 2001)\n",
    "-\tComments\n",
    "\t- Once again, focused only on adult males\n",
    "\t- This paper is more focused on migration duration, rather than the cause of migration. As well as this, he hasn't highlighted any factors that draw in or push away migrants, but rather suggesting that “immigrants may in fact reduce their migration duration as a result of an increase in host country wages”.\n",
    "\t\t- This challenges the suitability of wages as a factor in my project. But since most other studies highlight it’s relevance, I will opt to analyse it before making any decisions on keeping or disposing of it"
   ]
  },
  {
   "cell_type": "markdown",
   "id": "cdcdb605",
   "metadata": {},
   "source": [
    "# Study 6: THE EFFECT OF EXPECTED INCOME ON INDIVIDUAL MIGRATION DECISIONS\n",
    "-\tReference: (Walker and Kennan 2003)\n",
    "-\tFactors:\n",
    "\t- Income (this has been mentioned by these same authors before, so maybe I shouldn't consider an increase in importance from this study due to it's ties with previous authors considered)\n",
    "-\tComments\n",
    "\t- I notice that Gemini got something wrong: It states that this is Keenan and Walker building on their previous work, yet the pieces of literature listed as references for study 6 take place before their other studies I considered previously in Study 2"
   ]
  },
  {
   "cell_type": "markdown",
   "id": "4bc81cfe",
   "metadata": {},
   "source": [
    "# Study 7: Determinants of Migration Choices: The Role of Beliefs about Career and Non-Career Outcomes\n",
    "-\tReference: (Ayarza 2025)\n",
    "-\tFactors:\n",
    "\t- Growth (GDP per head in PPS)\n",
    "\t\t- In this study, a “low-growth region” is referred to, as defined in (European Commission 2017)\n",
    "\t\t\t- The above pdf also notes “low-income regions” \n",
    "\t\t\t- In both cases, it talks about a lower GDP per head in PPS\n",
    "-\tComments\n",
    "\t- Study focused on a “lagging region” with little growth"
   ]
  },
  {
   "cell_type": "markdown",
   "id": "a0d33e0d",
   "metadata": {},
   "source": [
    "# Study 8: THE DETERMINANTS OF DECLINING INTERNAL MIGRATION\n",
    "-\tReference: (Olney and Thompson 2024)\n",
    "-\tFactors\n",
    "\t- Wages\n",
    "\t- Housing prices\n",
    "-\tComments\n",
    "\t- Focuses on internal migration within a country. While wages is supported as being applicable to migration overall, housing prices needs further confirmation of it’s prevalence, though I believe it will play a role nearly as strong as that of income"
   ]
  },
  {
   "cell_type": "markdown",
   "id": "9a6f8e39",
   "metadata": {},
   "source": [
    "# Study 9: Individual versus Household Migration Decision Rules: Gender and Marital Status Differences in Intentions to Migrate in South Africa\n",
    "-\tReference: (Gubhaju and Jong 2009)\n",
    "-\tFactors\n",
    "\t- Home ownership\n",
    "\t\t- This was a measured determinant under the category “Household resources”. It stands to reason that if more people own homes in a country, there could be less migration due to the more permanent nature of purchased/inherited housing?\n",
    "\t- Marriage rate (definitely social. Good for when I consider literature on social factors for migration)\n",
    "-\tComments:\n",
    "\t- This study feels a bit too focused on very individual decisions based on whether one is married or not. I am not getting much insight into push/pull reasons for migration, especially since "
   ]
  },
  {
   "cell_type": "markdown",
   "id": "4c7b9f19",
   "metadata": {},
   "source": [
    "# Study 10: The New Economics of Labor Migration\n",
    "-\tReference: (Stark and Bloom 1985)\n",
    "-\tFactors\n",
    "\t- unemployment compensation programs\n",
    "\t\t- Can be linked into the general  “welfare” factor I wished to create from Study 2\n",
    "-\tComments\n",
    "\t- Gemini didn't link the correct study. I had to prompt it again to gain access\n",
    "\t- “Note also that as particular individuals migrate, the relative deprivation perceived by nonmigrants may change, thereby creating second-round in-ducements to migrate”\n",
    "\t\t- This statement is interesting, as it suggests migration itself can be an influencer for more people in that country to migrate. However, it’s probably best not to include net migration as a factor towards creating an index for net migration\n"
   ]
  }
 ],
 "metadata": {
  "language_info": {
   "name": "python"
  }
 },
 "nbformat": 4,
 "nbformat_minor": 5
}
