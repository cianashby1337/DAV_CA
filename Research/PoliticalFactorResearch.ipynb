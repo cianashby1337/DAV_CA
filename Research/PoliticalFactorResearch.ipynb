{
 "cells": [
  {
   "cell_type": "markdown",
   "id": "4858b754",
   "metadata": {},
   "source": [
    "# Potential source\n",
    "- Check out https://www.mdpi.com/2227-7099/10/1/21\n",
    "\t- A study visited in determining social factors, but considers other factors, like political ones\n",
    "\n",
    "\n",
    "- Institutional trust (approval of the government? arguably political) https://www.researchgate.net/publication/280482491_How_Durable_are_Social_Norms_Immigrant_Trust_and_Generosity_in_132_Countries\n",
    "\t- \"Institutional trust: Feeling of confidence toward a particular organization.\" https://www.sciencedirect.com/topics/computer-science/institutional-trust"
   ]
  },
  {
   "cell_type": "markdown",
   "id": "6e439ccc",
   "metadata": {},
   "source": [
    "# Determined Factors\n",
    "- To be found"
   ]
  },
  {
   "cell_type": "markdown",
   "id": "186e6f17",
   "metadata": {},
   "source": [
    "# Possible Factors\n",
    "- Warfare (carried over from unused factor from an social study)"
   ]
  }
 ],
 "metadata": {
  "language_info": {
   "name": "python"
  }
 },
 "nbformat": 4,
 "nbformat_minor": 5
}
