{
 "cells": [
  {
   "cell_type": "markdown",
   "id": "be122134",
   "metadata": {},
   "source": [
    "# A switch in LLM\n",
    "- I decided to try and experiment with another LLM, as I had noticed some inaccuracies in Gemini's responses, particularly in linking the wrong study.\n",
    "- Using ChatGPT, I was quite happy with it's consistency, with minimal need for me to find more direct links to the resource used (ChatGPT 2025). \n",
    "- This improvement may also be in part due to me asking for 6 studies rather than 10, lessening the load on the model. Regardless of the reason, I would now prefer to stick with ChatGPT in the scope of research, at the very least."
   ]
  },
  {
   "cell_type": "markdown",
   "id": "6e439ccc",
   "metadata": {},
   "source": [
    "# Determined Factors\n",
    "- Warfare\n",
    "- Instituational trust\n",
    "- political stability\n",
    "- type of political regime // left/right/center leaning?\n",
    "- terrorism\n",
    "- legal system fairness\n",
    "- government effectiveness\n",
    "- regulatory quality\n",
    "- % of workers with union representation\n",
    "- measure of basic rights\n",
    "- corruption\n",
    "- how rich a country is (GDP?)"
   ]
  },
  {
   "cell_type": "markdown",
   "id": "4858b754",
   "metadata": {},
   "source": [
    "# Previously found \n",
    "- Check out (Urbański 2022)\n",
    "\t- A study visited in determining social factors, but considers other factors, like political ones\n",
    "\n",
    "\n",
    "- Institutional trust (approval of the government? arguably political) (Helliwell et al. 2015)\n",
    "\t- \"Institutional trust: Feeling of confidence toward a particular organization.\" (ScienceDirect 2025)\n",
    "\n",
    "- Warfare (carried over from an unused factor of a study on social factors) (De Haas and Fransen 2018) "
   ]
  },
  {
   "cell_type": "markdown",
   "id": "9f0d764b",
   "metadata": {},
   "source": [
    "# 1. Political Factors as Drivers of International Migration\n",
    "- Reference: (Adserà et al. 2016)\n",
    "- Possible factors:\n",
    "\t- warfare/conflict\n",
    "\t- a measure of political stability?\n",
    "\t- political regime?\n"
   ]
  },
  {
   "cell_type": "markdown",
   "id": "1a5a2607",
   "metadata": {},
   "source": [
    "# 2. Comparing Push and Pull Factors Affecting Migration\n",
    "- This is a study that has come up under my research on sub-indices and social factors. Definitely a good idea to keep rolling with this.\n",
    "- Reference: (Urbański 2022)\n",
    "- Possible factors:\n",
    "\t- war?\n",
    "\t- terrorism?\n",
    "\t- legal system fairness?"
   ]
  },
  {
   "cell_type": "markdown",
   "id": "4403f193",
   "metadata": {},
   "source": [
    "# 3. Pushed by Poverty or by Institutions? Determinants of Global Migration Flows\n",
    "- Reference: (Bergh et al. 2015)\n",
    "- Possible factors:\n",
    "\t- institutional quality? (seems a bit vague to me, currently. What organisation? probably government)\n",
    "\t\t- \"discontent with the current quality of institutions makes people willing to leave a country, and for most indicators the push effect is stronger than the pull effect\"\n",
    "\t\t- Other terms to describe \"institutional\" factors\n",
    "\t\t\t- Government effectiveness\n",
    "\t\t\t- Control of corruption\n",
    "\t\t\t- regulatory quality\n",
    "\t\t\t- rule of law\n",
    "\t\t\t- political stability\n",
    "\t\t\t- accountability (seems to discourage migration, according to this study?)"
   ]
  },
  {
   "cell_type": "markdown",
   "id": "c35de0d7",
   "metadata": {},
   "source": [
    "# 4. The Political Determinants of Migration Control\n",
    "- Reference: (Rosenblum 2003)\n",
    "- Possible factors:\n",
    "\t- % of workers with union representation\n",
    "\t- left/right/center government "
   ]
  },
  {
   "cell_type": "markdown",
   "id": "5b6c922c",
   "metadata": {},
   "source": [
    "# 5. How Transit Countries Become Refugee Destinations\n",
    "- Reference:  (Harding and Panzaru 2024)\n",
    "- Possible factors:\n",
    "\t- political instability\n",
    "\t- war\n",
    "\t- a measure of basic rights "
   ]
  },
  {
   "cell_type": "markdown",
   "id": "b5c25f0a",
   "metadata": {},
   "source": [
    "# 6. On the Relationship between Corruption and Migration\n",
    "- Reference: (Poprawe 2015)\n",
    "- Possible factors:\n",
    "\t- political instability\n",
    "\t- how rich a country is (GDP?)\n",
    "\t- corruption"
   ]
  }
 ],
 "metadata": {
  "language_info": {
   "name": "python"
  }
 },
 "nbformat": 4,
 "nbformat_minor": 5
}
