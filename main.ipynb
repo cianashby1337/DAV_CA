{
 "cells": [
  {
   "cell_type": "markdown",
   "metadata": {},
   "source": [
    "# Data Analysis & Visualization CA - Index Generation and Visualization"
   ]
  },
  {
   "cell_type": "markdown",
   "metadata": {},
   "source": [
    "## 1. Theoretical Framework\n",
    "The composite index I am creating is intended to indicate: “What makes a country more or less attractive to live in?”\n",
    "\n",
    "I am referring to a handbook on constructing composite indicators to guide the development of this (Dunn 2020)\n",
    "\n",
    "This would include sub-indices for different groupings of factors, which I expect to be labelled after areas like \"healthcare\", \"transport\" or \"economy\". The resulting composite index can be compared to an existing indicator on World Bank's open database: \"Net Migration\" (The World Bank Group 2025), which is the amount of people who move into a country minus the amount of people who move out of a country.\n",
    "\n",
    "### Expert Opinion\n",
    "Expert opinion is invaluable for a project such as this, their feedback comes from experience within their area of expertise, giving a strong starting point for potentially signifigant features to include. \n",
    "\n",
    "For this, I have considered the following contacts in an attempt to find such opinion(s):\n",
    "- Irish Department of Foreign Affairs *(initial email to establish connection has been sent)*\n",
    "- Embassies\n",
    "\n",
    "### Personal Research\n",
    "I intend to conduct my own research, which is aimed at discovering and justifying features that may prove useful in the creation of the composite index.\n",
    "\n",
    "Steps:\n",
    "1. Ask an LLM for advice on factors that may be suitable for producing an index on country migration attractiveness.\n",
    "2. Create and observe a post on reddit, preferably on a subreddit about migration, which asks for reasons why people have moved to/from countries.\n",
    "3. Review findings from both sources, picking out the most frequently occuring factors.\n",
    "\n"
   ]
  },
  {
   "cell_type": "markdown",
   "metadata": {},
   "source": [
    "## 2. Data Selection"
   ]
  },
  {
   "cell_type": "markdown",
   "metadata": {},
   "source": [
    "## 3. Imputation of Missing Data"
   ]
  },
  {
   "cell_type": "markdown",
   "metadata": {},
   "source": [
    "## 4. Multivariate Analysis"
   ]
  },
  {
   "cell_type": "markdown",
   "metadata": {},
   "source": [
    "## 5. Normalisation"
   ]
  },
  {
   "cell_type": "markdown",
   "metadata": {},
   "source": [
    "## 6. Weighting and Aggregation"
   ]
  },
  {
   "cell_type": "markdown",
   "metadata": {},
   "source": [
    "## 7. Links to other indicators"
   ]
  },
  {
   "cell_type": "markdown",
   "metadata": {},
   "source": [
    "## 8. Visualisation of the results"
   ]
  },
  {
   "cell_type": "markdown",
   "metadata": {},
   "source": [
    "## References"
   ]
  },
  {
   "cell_type": "markdown",
   "metadata": {},
   "source": [
    "### Literature\n",
    "Steps in creating the composite index: \n",
    "- Dunn, J. (2020). *Handbook on Constructing Composite Indicators METHODOLOGY AND USER GUIDE* [online]. Available from: https://www.researchgate.net/publication/343404133_Handbook_on_Constructing_Composite_Indicators_METHODOLOGY_AND_USER_GUIDE [accessed 15 March 2025].\n",
    "\n",
    "<br>\n",
    "\n",
    "Net Migration indicator: \n",
    "- The World Bank Group. (2025). *World Development Indicators | DataBank* [online]. Available from: https://databank.worldbank.org/reports.aspx?source=2&series=SM.POP.NETM&country [accessed 15 March 2025]."
   ]
  },
  {
   "cell_type": "markdown",
   "metadata": {},
   "source": [
    "### AI Usage\n",
    " "
   ]
  }
 ],
 "metadata": {
  "language_info": {
   "name": "python"
  }
 },
 "nbformat": 4,
 "nbformat_minor": 2
}
