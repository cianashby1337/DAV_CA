{
 "cells": [
  {
   "cell_type": "markdown",
   "metadata": {},
   "source": [
    "# Data Analysis & Visualization CA - Index Generation and Visualization"
   ]
  },
  {
   "cell_type": "markdown",
   "metadata": {},
   "source": [
    "## 1. Theoretical Framework\n",
    "The composite index I am creating is intended to indicate: “What makes a country more or less attractive to live in?”\n",
    "\n",
    "I am referring to a handbook on constructing composite indicators to guide the development of this (Dunn 2020)\n",
    "\n",
    "This would include sub-indices for different groupings of factors, which I expect to be labelled after areas like \"healthcare\", \"transport\" or \"economy\". The resulting composite index can be compared to an existing indicator on World Bank's open database: \"Net Migration\" (The World Bank Group 2025), which is the amount of people who move into a country minus the amount of people who move out of a country.\n",
    "\n"
   ]
  },
  {
   "cell_type": "markdown",
   "metadata": {},
   "source": [
    "### Expert Opinion\n",
    "Expert opinion is invaluable for a project such as this, their feedback comes from experience within their area of expertise, giving a strong starting point for potentially signifigant features to include. \n",
    "\n",
    "For this, I have considered the following contacts in an attempt to find such opinion(s):\n",
    "- Irish Department of Foreign Affairs\n",
    "- Embassies\n",
    "\n",
    "Unfortunately, I have not gotten any response from these sources. I was anticipating this, as a college project of someone which they have no prior affiliation with is unlikely to be addressed amidst their other work."
   ]
  },
  {
   "cell_type": "markdown",
   "metadata": {},
   "source": [
    "### Personal Research\n",
    "I intend to conduct my own research, which is aimed at discovering and justifying features that may prove useful in the creation of the composite index.\n",
    "\n",
    "Initial Steps:\n",
    "1. Ask an LLM for advice on factors that may be suitable for producing an index on country migration attractiveness.\n",
    "    - I asked Gemini what features might be best to include, as well as great open sources to find such information on countries. I have included a link to the chat in the references section (Gemini 2025).\n",
    "2. Create and observe a post on reddit, preferably on a subreddit about migration, which asks for reasons why people have moved to/from countries.\n",
    "    - I created a post on 3 subreddits, asking what factors would impact how much a country draws in or pushes away people, through the lens of what country they are choosing to live in. \n",
    "\t    - r/immigration\n",
    "\t\t- r/migration\n",
    "\t\t- r/expats\n",
    "3. Review findings from both sources, picking out the most frequently occuring factors."
   ]
  },
  {
   "cell_type": "markdown",
   "metadata": {},
   "source": [
    "#### Literature Review in Place of Reddit Posts\n",
    "The Reddit posts at step 2 did not work out, due to their restrictions on surveys. However, one comment from user cris-cris-cris brought up the idea of performing a literature review. This is a good idea, as it allows me to get the expert opinions I require even without having connections with those people.\n",
    "\n",
    "<img src=\"images/lit_review_suggestion.png\"/>\n",
    "\n",
    "(this screenshot from my Reddit notifications was all I could refer to, as I was unfortunately banned from r/immigration due to my post being considered a survey, which I was unaware broke the rules)"
   ]
  },
  {
   "cell_type": "markdown",
   "metadata": {},
   "source": [
    "To get an idea of the sub-indices I would use, I used the search term “migration factors” in google scholar. From there, I picked out literature which contained distinguishable perspectives on migration, which could be turned into sub-indices. \n",
    "\n",
    "I observed the following individual factors: Cultural, Economic, Social, Political, Crime, and Environmental\n",
    "\n",
    "Sub-indices selected\n",
    "-\tSocial (included in 6/6 studies observed)\n",
    "-\tEconomic (included in 6/6 studies observed)\n",
    "-\tCultural (included in 3/6 studies observed)\n",
    "-\tPolitical (included in 3/6 studies observed)\n",
    "-\t~~Crime~~ (to be considered under the “Social” category, due to assumed importance, yet infrequency as a key category of it’s own)\n",
    "-\t~~Environmental~~ (removed due to <50% frequency) (2/6)"
   ]
  },
  {
   "cell_type": "markdown",
   "metadata": {},
   "source": [
    "<table>\n",
    "  <thead>\n",
    "    <tr>\n",
    "      <th>Study Name</th>\n",
    "      <th>Focused Factors for Migration</th>\n",
    "      <th>Other Factors for Migration</th>\n",
    "      <th>Study Link</th>\n",
    "    </tr>\n",
    "  </thead>\n",
    "  <tbody>\n",
    "    <tr>\n",
    "      <td>Push and Pull Factors of Migration (Parkins 2010)</td>\n",
    "      <td>\n",
    "        <ul>\n",
    "          <li>Economic</li>\n",
    "          <li>Crime (could be considered under the category of social?)</li>\n",
    "          <li>Social</li>\n",
    "        </ul>\n",
    "      </td>\n",
    "      <td></td>\n",
    "      <td><a href=\"https://arpejournal.com/article/119/galley/114/view/\">https://arpejournal.com/article/119/galley/114/view/</a></td>\n",
    "    </tr>\n",
    "    <tr>\n",
    "      <td>The environmental factor in migration dynamics – a review of African case studies (Jónsson 2010)</td>\n",
    "      <td>\n",
    "        <ul>\n",
    "          <li>Environmental</li>\n",
    "        </ul>\n",
    "      </td>\n",
    "      <td>\n",
    "        <ul>\n",
    "          <li>Political</li>\n",
    "          <li>Economic</li>\n",
    "          <li>Social</li>\n",
    "          <li>Cultural</li>\n",
    "        </ul>\n",
    "      </td>\n",
    "      <td><a href=\"https://ora.ox.ac.uk/objects/uuid:cece31bd-0118-4481-acc2-e9ca05f9a763/files/m201a6e7e1e22129ba8734247dff9dbb0\">https://ora.ox.ac.uk/objects/uuid:cece31bd-0118-4481-acc2-e9ca05f9a763/files/m201a6e7e1e22129ba8734247dff9dbb0</a></td>\n",
    "    </tr>\n",
    "    <tr>\n",
    "      <td>Comparing Push and Pull Factors Affecting Migration (Urbański 2022)</td>\n",
    "      <td>\n",
    "        <ul>\n",
    "          <li>Economic</li>\n",
    "          <li>Social</li>\n",
    "          <li>Political</li>\n",
    "        </ul>\n",
    "      </td>\n",
    "      <td></td>\n",
    "      <td><a href=\"https://www.mdpi.com/2227-7099/10/1/21\">https://www.mdpi.com/2227-7099/10/1/21</a></td>\n",
    "    </tr>\n",
    "    <tr>\n",
    "      <td>The Influence of Factors of Migration on the Migration Status of Rural-Urban Migrants in Dhaka, Bangladesh (Ishtiaque and Ullah 2013)</td>\n",
    "      <td>\n",
    "        <ul>\n",
    "          <li>Social</li>\n",
    "        </ul>\n",
    "      </td>\n",
    "      <td>\n",
    "        <ul>\n",
    "          <li>Economic</li>\n",
    "        </ul>\n",
    "      </td>\n",
    "      <td><a href=\"https://www.researchgate.net/profile/Asif-Ishtiaque/publication/258847945_The_Influence_of_Factors_of_Migration_on_the_Migration_Status_of_Rural-Urban_Migrants_in_Dhaka_Bangladesh/links/0deec5293b7fc7bcdb000000/The-Influence-of-Factors-of-Migration-on-the-Migration-Status-of-Rural-Urban-Migrants-in-Dhaka-Bangladesh.pdf\">https://www.researchgate.net/profile/Asif-Ishtiaque/publication/258847945_The_Influence_of_Factors_of_Migration_on_the_Migration_Status_of_Rural-Urban_Migrants_in_Dhaka_Bangladesh/links/0deec5293b7fc7bcdb000000/The-Influence-of-Factors-of-Migration-on-the-Migration-Status-of-Rural-Urban-Migrants-in-Dhaka-Bangladesh.pdf</a></td>\n",
    "    </tr>\n",
    "    <tr>\n",
    "      <td>Socio-Economic Factors Associated with Urban-Rural Migration in Nigeria: A Case Study of Oyo State, Nigeria (Adewale 2005)</td>\n",
    "      <td>\n",
    "        <ul>\n",
    "          <li>Socio-economic\n",
    "            <ul>\n",
    "              <li>Social</li>\n",
    "              <li>Economic</li>\n",
    "            </ul>\n",
    "          </li>\n",
    "        </ul>\n",
    "      </td>\n",
    "      <td>\n",
    "        <ul>\n",
    "          <li>Cultural</li>\n",
    "          <li>Environmental</li>\n",
    "          <li>Political</li>\n",
    "        </ul>\n",
    "      </td>\n",
    "      <td><a href=\"https://www.researchgate.net/profile/Jacob-Adewale/publication/267716974_Socio-Economic_Factors_Associated_with_Urban-Rural_Migration_in_Nigeria_A_Case_Study_of_Oyo_State_Nigeria/links/61dffae74e4aff4a643bb5b4/Socio-Economic-Factors-Associated-with-Urban-Rural-Migration-in-Nigeria-A-Case-Study-of-Oyo-State-Nigeria.pdf\">https://www.researchgate.net/profile/Jacob-Adewale/publication/267716974_Socio-Economic_Factors_Associated_with_Urban-Rural_Migration_in_Nigeria_A_Case_Study_of_Oyo_State_Nigeria/links/61dffae74e4aff4a643bb5b4/Socio-Economic-Factors-Associated-with-Urban-Rural-Migration-in-Nigeria-A-Case-Study-of-Oyo-State-Nigeria.pdf</a></td>\n",
    "    </tr>\n",
    "    <tr>\n",
    "      <td>Factors determining international and regional Migration in Europe. (Fouarge and Ester 2007)</td>\n",
    "      <td>\n",
    "        <ul>\n",
    "          <li>Social</li>\n",
    "          <li>Cultural</li>\n",
    "          <li>Economic</li>\n",
    "        </ul>\n",
    "      </td>\n",
    "      <td></td>\n",
    "      <td><a href=\"https://cris.maastrichtuniversity.nl/ws/portalfiles/portal/913803/guid-bc2ecf8e-2d2e-4747-b70a-bf0bd8e1d9b6-ASSET1.0.pdf\">https://cris.maastrichtuniversity.nl/ws/portalfiles/portal/913803/guid-bc2ecf8e-2d2e-4747-b70a-bf0bd8e1d9b6-ASSET1.0.pdf</a></td>\n",
    "    </tr>\n",
    "  </tbody>\n",
    "</table>"
   ]
  },
  {
   "cell_type": "markdown",
   "metadata": {},
   "source": [
    "From this literature review, I have found heavy reference to Social and Economic concepts in relation to migratory factors. As well as these, Cultural and Political factors were also of note. My next step is to dive deeper, and find more focused and measurable factors that fit under these four categories. "
   ]
  },
  {
   "cell_type": "markdown",
   "metadata": {},
   "source": [
    "## 2. Data Selection"
   ]
  },
  {
   "cell_type": "markdown",
   "metadata": {},
   "source": [
    "## 3. Imputation of Missing Data"
   ]
  },
  {
   "cell_type": "markdown",
   "metadata": {},
   "source": [
    "## 4. Multivariate Analysis"
   ]
  },
  {
   "cell_type": "markdown",
   "metadata": {},
   "source": [
    "## 5. Normalisation"
   ]
  },
  {
   "cell_type": "markdown",
   "metadata": {},
   "source": [
    "## 6. Weighting and Aggregation"
   ]
  },
  {
   "cell_type": "markdown",
   "metadata": {},
   "source": [
    "## 7. Links to other indicators"
   ]
  },
  {
   "cell_type": "markdown",
   "metadata": {},
   "source": [
    "## 8. Visualisation of the results"
   ]
  },
  {
   "cell_type": "markdown",
   "metadata": {},
   "source": [
    "## References"
   ]
  },
  {
   "cell_type": "markdown",
   "metadata": {},
   "source": [
    "### Literature\n",
    "Steps in creating the composite index: \n",
    "- Dunn, J. (2020). *Handbook on Constructing Composite Indicators METHODOLOGY AND USER GUIDE* [online]. Available from: https://www.researchgate.net/publication/343404133_Handbook_on_Constructing_Composite_Indicators_METHODOLOGY_AND_USER_GUIDE [accessed 15 March 2025].\n",
    "\n",
    "<br>\n",
    "\n",
    "Net Migration indicator: \n",
    "- The World Bank Group. (2025). *World Development Indicators | DataBank* [online]. Available from: https://databank.worldbank.org/reports.aspx?source=2&series=SM.POP.NETM&country [accessed 15 March 2025].\n",
    "\n",
    "<br>\n",
    "\n",
    "Sub-indices Literature Review:\n",
    "- Adewale, JG. (2005). *Socio-Economic Factors Associated with Urban-Rural Migration in Nigeria: A Case Study of Oyo State, Nigeria* [online]. Available from: https://www.researchgate.net/profile/Jacob-Adewale/publication/267716974_Socio-Economic_Factors_Associated_with_Urban-Rural_Migration_in_Nigeria_A_Case_Study_of_Oyo_State_Nigeria/links/61dffae74e4aff4a643bb5b4/Socio-Economic-Factors-Associated-with-Urban-Rural-Migration-in-Nigeria-A-Case-Study-of-Oyo-State-Nigeria.pdf [accessed 15 April 2025].\n",
    "- Fouarge, D. Ester, P. (2007). *Factors determining international and regional Migration in Europe* [online]. Available from: https://cris.maastrichtuniversity.nl/ws/portalfiles/portal/913803/guid-bc2ecf8e-2d2e-4747-b70a-bf0bd8e1d9b6-ASSET1.0.pdf [accessed 15 April 2025].\n",
    "- Ishtiaque, A. Ullah, S. (2013). *The Influence of Factors of Migration on the Migration Status of Rural-Urban Migrants in Dhaka, Bangladesh* [online]. Available from: https://www.researchgate.net/profile/Asif-Ishtiaque/publication/258847945_The_Influence_of_Factors_of_Migration_on_the_Migration_Status_of_Rural-Urban_Migrants_in_Dhaka_Bangladesh/links/0deec5293b7fc7bcdb000000/The-Influence-of-Factors-of-Migration-on-the-Migration-Status-of-Rural-Urban-Migrants-in-Dhaka-Bangladesh.pdf [accessed 15 April 2025].\n",
    "- Jónsson, G. (2010). *The environmental factor in migration dynamics – a review of African case studies* [online]. Available from: https://ora.ox.ac.uk/objects/uuid:cece31bd-0118-4481-acc2-e9ca05f9a763/files/m201a6e7e1e22129ba8734247dff9dbb0 [accessed 15 April 2025].\n",
    "- Parkins, NC. (2010). *Push and Pull Factors of Migration* [online]. Available from: https://arpejournal.com/article/119/galley/114/view/ [accessed 15 April 2025].\n",
    "- Urbański, M. (2022). *Comparing Push and Pull Factors Affecting Migration* [online]. Available from: https://www.mdpi.com/2227-7099/10/1/21 [accessed 15 April 2025].\n",
    "\n"
   ]
  },
  {
   "cell_type": "markdown",
   "metadata": {},
   "source": [
    "### AI Usage\n",
    "Establishing theoretical framework\n",
    "- Gemini. (2025). *Gemini - Country Attractiveness Index Data Sources* [online]. Available from: https://g.co/gemini/share/83a744e98278 [accessed 22 March 2025].\n",
    "- Gemini. (2025). *Gemini - Migration Studies Table Creation Request* [online]. Available from: https://g.co/gemini/share/23bfee8c552f [accessed 15 April 2025]."
   ]
  }
 ],
 "metadata": {
  "language_info": {
   "name": "python"
  }
 },
 "nbformat": 4,
 "nbformat_minor": 2
}
