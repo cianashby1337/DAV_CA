{
 "cells": [
  {
   "cell_type": "markdown",
   "id": "ab4a59eb",
   "metadata": {},
   "source": [
    "### Importing the data"
   ]
  },
  {
   "cell_type": "markdown",
   "id": "82e6c852",
   "metadata": {},
   "source": [
    "#### Initializing With World Development Indicator"
   ]
  },
  {
   "cell_type": "code",
   "execution_count": 1,
   "id": "b17fa462",
   "metadata": {},
   "outputs": [],
   "source": [
    "import pandas as pd\n",
    "import numpy as np\n",
    "\n",
    "world_development_indicator_df = pd.read_csv(\"../2. Data Extraction\\Old Data\\Multi-Category Factor Data (Added)\\world_bank_group.csv\")\n",
    "income_wages_df = pd.read_csv(\"..\\\\2. Data Extraction\\Old Data\\Economic Factor Data (Added, With Name Mismatches)\\income_wages.csv\")\n",
    "# Solution for selecting a specific sheet of an excel file found from the answer of Vaibhav Jadhav at https://stackoverflow.com/questions/71527992/pandas-dataframe-to-specific-sheet-in-a-excel-file-without-losing-formatting\n",
    "taxes_df = pd.read_excel(\"..\\\\2. Data Extraction\\Old Data\\Economic Factor Data (Added, With Name Mismatches)\\world-imf2024.xlsx\",sheet_name=\"Data\")\n",
    "rule_of_law_df = pd.read_csv(\"..\\\\2. Data Extraction\\Old Data\\Political Factor Data\\\\rule_of_law_index.csv\")\n",
    "\n",
    "\n",
    "\n",
    "country_name = world_development_indicator_df[\"Country Name\"].unique()\n",
    "gdp_growth = []\n",
    "pop_density = []\n",
    "education_years = []\n",
    "gdp_per_capita = []\n",
    "electricity_access = []\n",
    "birth_rate = []\n",
    "young_pop_percentage_male = []\n",
    "young_pop_percentage_female = []\n",
    "\n",
    "\n",
    "# the use of \"index\" below is from a question on the use of iterrows() in a for loop, answered by waitingkuo https://stackoverflow.com/questions/16476924/how-can-i-iterate-over-rows-in-a-pandas-dataframe\n",
    "for index, wdi_df_row in world_development_indicator_df.iterrows():\n",
    "\toutput_value = \"\"\n",
    "\n",
    "\tif wdi_df_row[\"Series Name\"] != \"Population density (people per sq. km of land area)\" and wdi_df_row[\"2023 [YR2023]\"] == \"..\" : output_value = None\n",
    "\telif wdi_df_row[\"Series Name\"] == \"Population density (people per sq. km of land area)\" and wdi_df_row[\"2022 [YR2022]\"] == \"..\" : output_value = None\n",
    "\telse: \n",
    "\t\tif wdi_df_row[\"Series Name\"] != \"Population density (people per sq. km of land area)\": output_value = wdi_df_row[\"2023 [YR2023]\"]\n",
    "\t\telse: output_value = wdi_df_row[\"2022 [YR2022]\"]\n",
    "\n",
    "\tif wdi_df_row[\"Series Name\"] == \"GDP per capita growth (annual %)\": gdp_growth.append(output_value)\n",
    "\telif wdi_df_row[\"Series Name\"] == \"Population density (people per sq. km of land area)\": pop_density.append(output_value) # Best set as 2022, since there is no data for any country in 2023\n",
    "\telif wdi_df_row[\"Series Name\"] == \"Compulsory education, duration (years)\": education_years.append(output_value)\n",
    "\telif wdi_df_row[\"Series Name\"] == \"GDP per capita (current US$)\": gdp_per_capita.append(output_value)\n",
    "\telif wdi_df_row[\"Series Name\"] == \"Access to electricity (% of population)\": electricity_access.append(output_value)\n",
    "\telif wdi_df_row[\"Series Name\"] == \"Birth rate, crude (per 1,000 people)\": birth_rate.append(output_value)\n",
    "\telif wdi_df_row[\"Series Name\"] == \"Population ages 20-24, male (% of male population)\": young_pop_percentage_male.append(output_value)\n",
    "\telif wdi_df_row[\"Series Name\"] == \"Population ages 20-24, female (% of female population)\": young_pop_percentage_female.append(output_value)\n",
    "\n",
    "\n",
    "# Figured out how to make an empty list with help from jL4's answer at https://stackoverflow.com/questions/43336837/making-equal-size-lists-in-python\n",
    "avg_hourly_earnings = []\n",
    "avg_hourly_earnings.extend([None] * len(country_name))\n",
    "\n",
    "taxes_percentage = []\n",
    "taxes_percentage.extend([None] * len(country_name))\n",
    "\n",
    "fundamental_rights = []\n",
    "fundamental_rights.extend([None] * len(country_name))\n",
    "\n",
    "legal_system_fairness = []\n",
    "legal_system_fairness.extend([None] * len(country_name))\n",
    "\n",
    "df = pd.DataFrame({\n",
    "\t\"Country Name\":country_name,\n",
    "\t\"GDP per capita growth (annual %)\":gdp_growth,\n",
    "\t\"Population density (people per sq. km of land area)\":pop_density,\n",
    "\t\"Compulsory education, duration (years)\":education_years,\n",
    "\t\"GDP per capita (current US$)\":gdp_per_capita,\n",
    "\t\"Access to electricity (% of population)\":electricity_access,\n",
    "\t\"Birth rate, crude (per 1,000 people)\":birth_rate,\n",
    "\t\"Population ages 20-24, male (% of male population)\":young_pop_percentage_male,\n",
    "\t\"Population ages 20-24, female (% of female population)\":young_pop_percentage_female,\n",
    "\t\"Average hourly earnings of employees\":avg_hourly_earnings,\n",
    "\t\"Tax revenue, percent of GDP\":taxes_percentage,\n",
    "\t\"Fundamental Rights\":fundamental_rights,\n",
    "\t\"Legal System Fairness\":legal_system_fairness\n",
    "\t})"
   ]
  },
  {
   "cell_type": "markdown",
   "id": "5ae86ffc",
   "metadata": {},
   "source": [
    "#### Adding Average Hourly Earnings"
   ]
  },
  {
   "cell_type": "code",
   "execution_count": 2,
   "id": "e0690249",
   "metadata": {},
   "outputs": [],
   "source": [
    "for index, iw_df_row in income_wages_df.iterrows():\n",
    "\tname_mismatched = \"\"\n",
    "\n",
    "\t# Solution for checking existence of matching country names in the main dataframe found from Akram's answer at https://stackoverflow.com/questions/21319929/how-to-determine-whether-a-pandas-column-contains-a-particular-value\n",
    "\tif iw_df_row[\"ref_area.label\"] in df[\"Country Name\"].values:\n",
    "\t\tfor index, df_row in df.iterrows():\n",
    "\t\t\tif df_row[\"Country Name\"] == iw_df_row[\"ref_area.label\"]:\n",
    "\t\t\t\tdf_row[\"Average hourly earnings of employees\"] = iw_df_row[\"obs_value\"]\n",
    "\t\t\t\tbreak\n",
    "\t# hardcoding was required for these countries. Due to the mismatch of country name, they triggered the else block below\n",
    "\telif iw_df_row[\"ref_area.label\"] == \"Egypt\": name_mismatched = \"Egypt, Arab Rep.\"\n",
    "\telif iw_df_row[\"ref_area.label\"] == \"United Kingdom of Great Britain and Northern Ireland\": name_mismatched = \"United Kingdom\"\n",
    "\telif iw_df_row[\"ref_area.label\"] == \"Republic of Korea\": name_mismatched = \"Korea, Rep.\" # determined to be south korea https://history.state.gov/countries/korea-south#:~:text=Republic%20of%20Korea%20(South%20Korea,Countries%20%2D%20Office%20of%20the%20Historian\n",
    "\telif iw_df_row[\"ref_area.label\"] == \"Republic of Moldova\": name_mismatched = \"Moldova\"\n",
    "\telif iw_df_row[\"ref_area.label\"] == \"Slovakia\": name_mismatched = \"Slovak Republic\"\n",
    "\telif iw_df_row[\"ref_area.label\"] == \"Türkiye\": name_mismatched = \"Turkiye\"\n",
    "\telif iw_df_row[\"ref_area.label\"] == \"Tanzania, United Republic of\": name_mismatched = \"Tanzania\"\n",
    "\telif iw_df_row[\"ref_area.label\"] == \"United States of America\": name_mismatched = \"United States\"\n",
    "\telse:\n",
    "\t\tprint(iw_df_row[\"ref_area.label\"])\n",
    "\t\tprint(\"I do not exist\")\n",
    "\tfor index, df_row in df.iterrows():\n",
    "\t\tif df_row[\"Country Name\"] == name_mismatched:\n",
    "\t\t\tdf_row[\"Average hourly earnings of employees\"] = iw_df_row[\"obs_value\"]\n",
    "\t\t\t# print(\"Successfully assigned \", df_row[\"Country Name\"],\" the value \",iw_df_row[\"obs_value\"])\n",
    "\t\t\tbreak"
   ]
  },
  {
   "cell_type": "markdown",
   "id": "6c3050bc",
   "metadata": {},
   "source": [
    "#### Adding Tax Revenue"
   ]
  },
  {
   "cell_type": "code",
   "execution_count": 3,
   "id": "60e882e7",
   "metadata": {},
   "outputs": [
    {
     "name": "stdout",
     "output_type": "stream",
     "text": [
      "UAE\n",
      "I do not exist\n",
      "The Bahamas\n",
      "I do not exist\n",
      "Democratic Republic of the Congo\n",
      "I do not exist\n",
      "Republic of Congo\n",
      "I do not exist\n",
      "Czech Republic\n",
      "I do not exist\n",
      "Egypt\n",
      "I do not exist\n",
      "Micronesia\n",
      "I do not exist\n",
      "The Gambia\n",
      "I do not exist\n",
      "Hong Kong SAR\n",
      "I do not exist\n",
      "Iran\n",
      "I do not exist\n",
      "Korea\n",
      "I do not exist\n",
      "Lao P.D.R\n",
      "I do not exist\n",
      "Macao SAR\n",
      "I do not exist\n",
      "Russia\n",
      "I do not exist\n",
      "Türkiye\n",
      "I do not exist\n",
      "Venezuela\n",
      "I do not exist\n",
      "Vietnam\n",
      "I do not exist\n",
      "Yemen\n",
      "I do not exist\n",
      "18\n"
     ]
    }
   ],
   "source": [
    "count = 0\n",
    "for index, tax_df_row in taxes_df.iterrows():\n",
    "\tif tax_df_row[\"year\"] != 2019: continue\n",
    "\telif tax_df_row[\"property_ShortForm_en_displayNam\"] in df[\"Country Name\"].values:\n",
    "\t\tfor index, df_row in df.iterrows():\n",
    "\t\t\tif df_row[\"Country Name\"] == tax_df_row[\"property_ShortForm_en_displayNam\"]:\n",
    "\t\t\t\tdf_row[\"Tax revenue, percent of GDP\"] = tax_df_row[\"TaxRev\"]\n",
    "\t\t\t\tbreak\n",
    "\telse:\n",
    "\t\tprint(tax_df_row[\"property_ShortForm_en_displayNam\"])\n",
    "\t\tprint(\"I do not exist\")\n",
    "\t\tcount += 1\n",
    "\n",
    "print(count)"
   ]
  },
  {
   "cell_type": "markdown",
   "id": "063bec63",
   "metadata": {},
   "source": [
    "#### Adding Rule Of Law Index"
   ]
  },
  {
   "cell_type": "code",
   "execution_count": 4,
   "id": "38431d53",
   "metadata": {},
   "outputs": [
    {
     "name": "stdout",
     "output_type": "stream",
     "text": [
      "Hong Kong, China\n",
      "I do not exist\n",
      "St. Vincent and G...\n",
      "I do not exist\n",
      "The Bahamas\n",
      "I do not exist\n",
      "Bosnia and Herz...\n",
      "I do not exist\n",
      "Vietnam\n",
      "I do not exist\n",
      "The Gambia\n",
      "I do not exist\n",
      "Côte d'Ivoire\n",
      "I do not exist\n",
      "Türkiye\n",
      "I do not exist\n",
      "8\n"
     ]
    }
   ],
   "source": [
    "count = 0\n",
    "for index, rol_df_row in rule_of_law_df.iterrows():\n",
    "\tif rol_df_row[\"Country\"] in df[\"Country Name\"].values:\n",
    "\t\tfor index, df_row in df.iterrows():\n",
    "\t\t\tif df_row[\"Country Name\"] == rol_df_row[\"Country\"]:\n",
    "\t\t\t\tdf_row[\"Fundamental Rights\"] = rol_df_row[\"Fundamental Rights\"]\n",
    "\t\t\t\tdf_row[\"Legal System Fairness\"] = rol_df_row[\"Civil Justice + Criminal Justice\"]\n",
    "\t\t\t\tbreak\n",
    "\telse:\n",
    "\t\tprint(rol_df_row[\"Country\"])\n",
    "\t\tprint(\"I do not exist\")\n",
    "\t\tcount += 1\n",
    "\n",
    "print(count)"
   ]
  },
  {
   "cell_type": "markdown",
   "id": "e5a06fd8",
   "metadata": {},
   "source": [
    "#### Checking Null Values"
   ]
  },
  {
   "cell_type": "code",
   "execution_count": 5,
   "id": "9ea84d52",
   "metadata": {},
   "outputs": [
    {
     "data": {
      "text/plain": [
       "Country Name                                                0\n",
       "GDP per capita growth (annual %)                           22\n",
       "Population density (people per sq. km of land area)         7\n",
       "Compulsory education, duration (years)                     20\n",
       "GDP per capita (current US$)                               22\n",
       "Access to electricity (% of population)                     2\n",
       "Birth rate, crude (per 1,000 people)                        0\n",
       "Population ages 20-24, male (% of male population)          0\n",
       "Population ages 20-24, female (% of female population)      0\n",
       "Average hourly earnings of employees                      164\n",
       "Tax revenue, percent of GDP                                43\n",
       "Fundamental Rights                                         83\n",
       "Legal System Fairness                                      83\n",
       "dtype: int64"
      ]
     },
     "execution_count": 5,
     "metadata": {},
     "output_type": "execute_result"
    }
   ],
   "source": [
    "df.isnull().sum()\n",
    "# NULL VALUES:\n",
    "#  Access to electricity (% of population)                    2\n",
    "#  GDP per capita (current US$)                              22\n",
    "#  Compulsory education, duration (years)                    20\n",
    "#  Population density (people per sq. km of land area)        7\n",
    "#  GDP per capita growth (annual %)                          22\n",
    "#  Average hourly earnings of employees                     164\n",
    "#  Tax revenue, percent of GDP                               43"
   ]
  }
 ],
 "metadata": {
  "kernelspec": {
   "display_name": "Python 3",
   "language": "python",
   "name": "python3"
  },
  "language_info": {
   "codemirror_mode": {
    "name": "ipython",
    "version": 3
   },
   "file_extension": ".py",
   "mimetype": "text/x-python",
   "name": "python",
   "nbconvert_exporter": "python",
   "pygments_lexer": "ipython3",
   "version": "3.11.9"
  }
 },
 "nbformat": 4,
 "nbformat_minor": 5
}
