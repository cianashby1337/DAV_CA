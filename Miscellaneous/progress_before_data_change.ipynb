{
 "cells": [
  {
   "cell_type": "markdown",
   "id": "ab4a59eb",
   "metadata": {},
   "source": [
    "### Importing the data"
   ]
  },
  {
   "cell_type": "markdown",
   "id": "82e6c852",
   "metadata": {},
   "source": [
    "#### Initializing With World Development Indicator"
   ]
  },
  {
   "cell_type": "code",
   "execution_count": 1,
   "id": "b17fa462",
   "metadata": {},
   "outputs": [
    {
     "ename": "OSError",
     "evalue": "[Errno 22] Invalid argument: '../2. Data Extraction\\\\Old Data\\\\Political Factor Data\\rule_of_law_index.csv'",
     "output_type": "error",
     "traceback": [
      "\u001b[1;31m---------------------------------------------------------------------------\u001b[0m",
      "\u001b[1;31mOSError\u001b[0m                                   Traceback (most recent call last)",
      "Cell \u001b[1;32mIn[1], line 8\u001b[0m\n\u001b[0;32m      6\u001b[0m \u001b[38;5;66;03m# Solution for selecting a specific sheet of an excel file found from the answer of Vaibhav Jadhav at https://stackoverflow.com/questions/71527992/pandas-dataframe-to-specific-sheet-in-a-excel-file-without-losing-formatting\u001b[39;00m\n\u001b[0;32m      7\u001b[0m taxes_df \u001b[38;5;241m=\u001b[39m pd\u001b[38;5;241m.\u001b[39mread_excel(\u001b[38;5;124m\"\u001b[39m\u001b[38;5;124m..\u001b[39m\u001b[38;5;130;01m\\\\\u001b[39;00m\u001b[38;5;124m2. Data Extraction\u001b[39m\u001b[38;5;124m\\\u001b[39m\u001b[38;5;124mOld Data\u001b[39m\u001b[38;5;124m\\\u001b[39m\u001b[38;5;124mEconomic Factor Data (Added, With Name Mismatches)\u001b[39m\u001b[38;5;124m\\\u001b[39m\u001b[38;5;124mworld-imf2024.xlsx\u001b[39m\u001b[38;5;124m\"\u001b[39m,sheet_name\u001b[38;5;241m=\u001b[39m\u001b[38;5;124m\"\u001b[39m\u001b[38;5;124mData\u001b[39m\u001b[38;5;124m\"\u001b[39m)\n\u001b[1;32m----> 8\u001b[0m rule_of_law_df \u001b[38;5;241m=\u001b[39m \u001b[43mpd\u001b[49m\u001b[38;5;241;43m.\u001b[39;49m\u001b[43mread_csv\u001b[49m\u001b[43m(\u001b[49m\u001b[38;5;124;43m\"\u001b[39;49m\u001b[38;5;124;43m../2. Data Extraction\u001b[39;49m\u001b[38;5;124;43m\\\u001b[39;49m\u001b[38;5;124;43mOld Data\u001b[39;49m\u001b[38;5;124;43m\\\u001b[39;49m\u001b[38;5;124;43mPolitical Factor Data\u001b[39;49m\u001b[38;5;130;43;01m\\r\u001b[39;49;00m\u001b[38;5;124;43mule_of_law_index.csv\u001b[39;49m\u001b[38;5;124;43m\"\u001b[39;49m\u001b[43m)\u001b[49m\n\u001b[0;32m     12\u001b[0m country_name \u001b[38;5;241m=\u001b[39m world_development_indicator_df[\u001b[38;5;124m\"\u001b[39m\u001b[38;5;124mCountry Name\u001b[39m\u001b[38;5;124m\"\u001b[39m]\u001b[38;5;241m.\u001b[39munique()\n\u001b[0;32m     13\u001b[0m gdp_growth \u001b[38;5;241m=\u001b[39m []\n",
      "File \u001b[1;32m~\\AppData\\Local\\Packages\\PythonSoftwareFoundation.Python.3.11_qbz5n2kfra8p0\\LocalCache\\local-packages\\Python311\\site-packages\\pandas\\io\\parsers\\readers.py:1026\u001b[0m, in \u001b[0;36mread_csv\u001b[1;34m(filepath_or_buffer, sep, delimiter, header, names, index_col, usecols, dtype, engine, converters, true_values, false_values, skipinitialspace, skiprows, skipfooter, nrows, na_values, keep_default_na, na_filter, verbose, skip_blank_lines, parse_dates, infer_datetime_format, keep_date_col, date_parser, date_format, dayfirst, cache_dates, iterator, chunksize, compression, thousands, decimal, lineterminator, quotechar, quoting, doublequote, escapechar, comment, encoding, encoding_errors, dialect, on_bad_lines, delim_whitespace, low_memory, memory_map, float_precision, storage_options, dtype_backend)\u001b[0m\n\u001b[0;32m   1013\u001b[0m kwds_defaults \u001b[38;5;241m=\u001b[39m _refine_defaults_read(\n\u001b[0;32m   1014\u001b[0m     dialect,\n\u001b[0;32m   1015\u001b[0m     delimiter,\n\u001b[1;32m   (...)\u001b[0m\n\u001b[0;32m   1022\u001b[0m     dtype_backend\u001b[38;5;241m=\u001b[39mdtype_backend,\n\u001b[0;32m   1023\u001b[0m )\n\u001b[0;32m   1024\u001b[0m kwds\u001b[38;5;241m.\u001b[39mupdate(kwds_defaults)\n\u001b[1;32m-> 1026\u001b[0m \u001b[38;5;28;01mreturn\u001b[39;00m \u001b[43m_read\u001b[49m\u001b[43m(\u001b[49m\u001b[43mfilepath_or_buffer\u001b[49m\u001b[43m,\u001b[49m\u001b[43m \u001b[49m\u001b[43mkwds\u001b[49m\u001b[43m)\u001b[49m\n",
      "File \u001b[1;32m~\\AppData\\Local\\Packages\\PythonSoftwareFoundation.Python.3.11_qbz5n2kfra8p0\\LocalCache\\local-packages\\Python311\\site-packages\\pandas\\io\\parsers\\readers.py:620\u001b[0m, in \u001b[0;36m_read\u001b[1;34m(filepath_or_buffer, kwds)\u001b[0m\n\u001b[0;32m    617\u001b[0m _validate_names(kwds\u001b[38;5;241m.\u001b[39mget(\u001b[38;5;124m\"\u001b[39m\u001b[38;5;124mnames\u001b[39m\u001b[38;5;124m\"\u001b[39m, \u001b[38;5;28;01mNone\u001b[39;00m))\n\u001b[0;32m    619\u001b[0m \u001b[38;5;66;03m# Create the parser.\u001b[39;00m\n\u001b[1;32m--> 620\u001b[0m parser \u001b[38;5;241m=\u001b[39m \u001b[43mTextFileReader\u001b[49m\u001b[43m(\u001b[49m\u001b[43mfilepath_or_buffer\u001b[49m\u001b[43m,\u001b[49m\u001b[43m \u001b[49m\u001b[38;5;241;43m*\u001b[39;49m\u001b[38;5;241;43m*\u001b[39;49m\u001b[43mkwds\u001b[49m\u001b[43m)\u001b[49m\n\u001b[0;32m    622\u001b[0m \u001b[38;5;28;01mif\u001b[39;00m chunksize \u001b[38;5;129;01mor\u001b[39;00m iterator:\n\u001b[0;32m    623\u001b[0m     \u001b[38;5;28;01mreturn\u001b[39;00m parser\n",
      "File \u001b[1;32m~\\AppData\\Local\\Packages\\PythonSoftwareFoundation.Python.3.11_qbz5n2kfra8p0\\LocalCache\\local-packages\\Python311\\site-packages\\pandas\\io\\parsers\\readers.py:1620\u001b[0m, in \u001b[0;36mTextFileReader.__init__\u001b[1;34m(self, f, engine, **kwds)\u001b[0m\n\u001b[0;32m   1617\u001b[0m     \u001b[38;5;28mself\u001b[39m\u001b[38;5;241m.\u001b[39moptions[\u001b[38;5;124m\"\u001b[39m\u001b[38;5;124mhas_index_names\u001b[39m\u001b[38;5;124m\"\u001b[39m] \u001b[38;5;241m=\u001b[39m kwds[\u001b[38;5;124m\"\u001b[39m\u001b[38;5;124mhas_index_names\u001b[39m\u001b[38;5;124m\"\u001b[39m]\n\u001b[0;32m   1619\u001b[0m \u001b[38;5;28mself\u001b[39m\u001b[38;5;241m.\u001b[39mhandles: IOHandles \u001b[38;5;241m|\u001b[39m \u001b[38;5;28;01mNone\u001b[39;00m \u001b[38;5;241m=\u001b[39m \u001b[38;5;28;01mNone\u001b[39;00m\n\u001b[1;32m-> 1620\u001b[0m \u001b[38;5;28mself\u001b[39m\u001b[38;5;241m.\u001b[39m_engine \u001b[38;5;241m=\u001b[39m \u001b[38;5;28;43mself\u001b[39;49m\u001b[38;5;241;43m.\u001b[39;49m\u001b[43m_make_engine\u001b[49m\u001b[43m(\u001b[49m\u001b[43mf\u001b[49m\u001b[43m,\u001b[49m\u001b[43m \u001b[49m\u001b[38;5;28;43mself\u001b[39;49m\u001b[38;5;241;43m.\u001b[39;49m\u001b[43mengine\u001b[49m\u001b[43m)\u001b[49m\n",
      "File \u001b[1;32m~\\AppData\\Local\\Packages\\PythonSoftwareFoundation.Python.3.11_qbz5n2kfra8p0\\LocalCache\\local-packages\\Python311\\site-packages\\pandas\\io\\parsers\\readers.py:1880\u001b[0m, in \u001b[0;36mTextFileReader._make_engine\u001b[1;34m(self, f, engine)\u001b[0m\n\u001b[0;32m   1878\u001b[0m     \u001b[38;5;28;01mif\u001b[39;00m \u001b[38;5;124m\"\u001b[39m\u001b[38;5;124mb\u001b[39m\u001b[38;5;124m\"\u001b[39m \u001b[38;5;129;01mnot\u001b[39;00m \u001b[38;5;129;01min\u001b[39;00m mode:\n\u001b[0;32m   1879\u001b[0m         mode \u001b[38;5;241m+\u001b[39m\u001b[38;5;241m=\u001b[39m \u001b[38;5;124m\"\u001b[39m\u001b[38;5;124mb\u001b[39m\u001b[38;5;124m\"\u001b[39m\n\u001b[1;32m-> 1880\u001b[0m \u001b[38;5;28mself\u001b[39m\u001b[38;5;241m.\u001b[39mhandles \u001b[38;5;241m=\u001b[39m \u001b[43mget_handle\u001b[49m\u001b[43m(\u001b[49m\n\u001b[0;32m   1881\u001b[0m \u001b[43m    \u001b[49m\u001b[43mf\u001b[49m\u001b[43m,\u001b[49m\n\u001b[0;32m   1882\u001b[0m \u001b[43m    \u001b[49m\u001b[43mmode\u001b[49m\u001b[43m,\u001b[49m\n\u001b[0;32m   1883\u001b[0m \u001b[43m    \u001b[49m\u001b[43mencoding\u001b[49m\u001b[38;5;241;43m=\u001b[39;49m\u001b[38;5;28;43mself\u001b[39;49m\u001b[38;5;241;43m.\u001b[39;49m\u001b[43moptions\u001b[49m\u001b[38;5;241;43m.\u001b[39;49m\u001b[43mget\u001b[49m\u001b[43m(\u001b[49m\u001b[38;5;124;43m\"\u001b[39;49m\u001b[38;5;124;43mencoding\u001b[39;49m\u001b[38;5;124;43m\"\u001b[39;49m\u001b[43m,\u001b[49m\u001b[43m \u001b[49m\u001b[38;5;28;43;01mNone\u001b[39;49;00m\u001b[43m)\u001b[49m\u001b[43m,\u001b[49m\n\u001b[0;32m   1884\u001b[0m \u001b[43m    \u001b[49m\u001b[43mcompression\u001b[49m\u001b[38;5;241;43m=\u001b[39;49m\u001b[38;5;28;43mself\u001b[39;49m\u001b[38;5;241;43m.\u001b[39;49m\u001b[43moptions\u001b[49m\u001b[38;5;241;43m.\u001b[39;49m\u001b[43mget\u001b[49m\u001b[43m(\u001b[49m\u001b[38;5;124;43m\"\u001b[39;49m\u001b[38;5;124;43mcompression\u001b[39;49m\u001b[38;5;124;43m\"\u001b[39;49m\u001b[43m,\u001b[49m\u001b[43m \u001b[49m\u001b[38;5;28;43;01mNone\u001b[39;49;00m\u001b[43m)\u001b[49m\u001b[43m,\u001b[49m\n\u001b[0;32m   1885\u001b[0m \u001b[43m    \u001b[49m\u001b[43mmemory_map\u001b[49m\u001b[38;5;241;43m=\u001b[39;49m\u001b[38;5;28;43mself\u001b[39;49m\u001b[38;5;241;43m.\u001b[39;49m\u001b[43moptions\u001b[49m\u001b[38;5;241;43m.\u001b[39;49m\u001b[43mget\u001b[49m\u001b[43m(\u001b[49m\u001b[38;5;124;43m\"\u001b[39;49m\u001b[38;5;124;43mmemory_map\u001b[39;49m\u001b[38;5;124;43m\"\u001b[39;49m\u001b[43m,\u001b[49m\u001b[43m \u001b[49m\u001b[38;5;28;43;01mFalse\u001b[39;49;00m\u001b[43m)\u001b[49m\u001b[43m,\u001b[49m\n\u001b[0;32m   1886\u001b[0m \u001b[43m    \u001b[49m\u001b[43mis_text\u001b[49m\u001b[38;5;241;43m=\u001b[39;49m\u001b[43mis_text\u001b[49m\u001b[43m,\u001b[49m\n\u001b[0;32m   1887\u001b[0m \u001b[43m    \u001b[49m\u001b[43merrors\u001b[49m\u001b[38;5;241;43m=\u001b[39;49m\u001b[38;5;28;43mself\u001b[39;49m\u001b[38;5;241;43m.\u001b[39;49m\u001b[43moptions\u001b[49m\u001b[38;5;241;43m.\u001b[39;49m\u001b[43mget\u001b[49m\u001b[43m(\u001b[49m\u001b[38;5;124;43m\"\u001b[39;49m\u001b[38;5;124;43mencoding_errors\u001b[39;49m\u001b[38;5;124;43m\"\u001b[39;49m\u001b[43m,\u001b[49m\u001b[43m \u001b[49m\u001b[38;5;124;43m\"\u001b[39;49m\u001b[38;5;124;43mstrict\u001b[39;49m\u001b[38;5;124;43m\"\u001b[39;49m\u001b[43m)\u001b[49m\u001b[43m,\u001b[49m\n\u001b[0;32m   1888\u001b[0m \u001b[43m    \u001b[49m\u001b[43mstorage_options\u001b[49m\u001b[38;5;241;43m=\u001b[39;49m\u001b[38;5;28;43mself\u001b[39;49m\u001b[38;5;241;43m.\u001b[39;49m\u001b[43moptions\u001b[49m\u001b[38;5;241;43m.\u001b[39;49m\u001b[43mget\u001b[49m\u001b[43m(\u001b[49m\u001b[38;5;124;43m\"\u001b[39;49m\u001b[38;5;124;43mstorage_options\u001b[39;49m\u001b[38;5;124;43m\"\u001b[39;49m\u001b[43m,\u001b[49m\u001b[43m \u001b[49m\u001b[38;5;28;43;01mNone\u001b[39;49;00m\u001b[43m)\u001b[49m\u001b[43m,\u001b[49m\n\u001b[0;32m   1889\u001b[0m \u001b[43m\u001b[49m\u001b[43m)\u001b[49m\n\u001b[0;32m   1890\u001b[0m \u001b[38;5;28;01massert\u001b[39;00m \u001b[38;5;28mself\u001b[39m\u001b[38;5;241m.\u001b[39mhandles \u001b[38;5;129;01mis\u001b[39;00m \u001b[38;5;129;01mnot\u001b[39;00m \u001b[38;5;28;01mNone\u001b[39;00m\n\u001b[0;32m   1891\u001b[0m f \u001b[38;5;241m=\u001b[39m \u001b[38;5;28mself\u001b[39m\u001b[38;5;241m.\u001b[39mhandles\u001b[38;5;241m.\u001b[39mhandle\n",
      "File \u001b[1;32m~\\AppData\\Local\\Packages\\PythonSoftwareFoundation.Python.3.11_qbz5n2kfra8p0\\LocalCache\\local-packages\\Python311\\site-packages\\pandas\\io\\common.py:873\u001b[0m, in \u001b[0;36mget_handle\u001b[1;34m(path_or_buf, mode, encoding, compression, memory_map, is_text, errors, storage_options)\u001b[0m\n\u001b[0;32m    868\u001b[0m \u001b[38;5;28;01melif\u001b[39;00m \u001b[38;5;28misinstance\u001b[39m(handle, \u001b[38;5;28mstr\u001b[39m):\n\u001b[0;32m    869\u001b[0m     \u001b[38;5;66;03m# Check whether the filename is to be opened in binary mode.\u001b[39;00m\n\u001b[0;32m    870\u001b[0m     \u001b[38;5;66;03m# Binary mode does not support 'encoding' and 'newline'.\u001b[39;00m\n\u001b[0;32m    871\u001b[0m     \u001b[38;5;28;01mif\u001b[39;00m ioargs\u001b[38;5;241m.\u001b[39mencoding \u001b[38;5;129;01mand\u001b[39;00m \u001b[38;5;124m\"\u001b[39m\u001b[38;5;124mb\u001b[39m\u001b[38;5;124m\"\u001b[39m \u001b[38;5;129;01mnot\u001b[39;00m \u001b[38;5;129;01min\u001b[39;00m ioargs\u001b[38;5;241m.\u001b[39mmode:\n\u001b[0;32m    872\u001b[0m         \u001b[38;5;66;03m# Encoding\u001b[39;00m\n\u001b[1;32m--> 873\u001b[0m         handle \u001b[38;5;241m=\u001b[39m \u001b[38;5;28;43mopen\u001b[39;49m\u001b[43m(\u001b[49m\n\u001b[0;32m    874\u001b[0m \u001b[43m            \u001b[49m\u001b[43mhandle\u001b[49m\u001b[43m,\u001b[49m\n\u001b[0;32m    875\u001b[0m \u001b[43m            \u001b[49m\u001b[43mioargs\u001b[49m\u001b[38;5;241;43m.\u001b[39;49m\u001b[43mmode\u001b[49m\u001b[43m,\u001b[49m\n\u001b[0;32m    876\u001b[0m \u001b[43m            \u001b[49m\u001b[43mencoding\u001b[49m\u001b[38;5;241;43m=\u001b[39;49m\u001b[43mioargs\u001b[49m\u001b[38;5;241;43m.\u001b[39;49m\u001b[43mencoding\u001b[49m\u001b[43m,\u001b[49m\n\u001b[0;32m    877\u001b[0m \u001b[43m            \u001b[49m\u001b[43merrors\u001b[49m\u001b[38;5;241;43m=\u001b[39;49m\u001b[43merrors\u001b[49m\u001b[43m,\u001b[49m\n\u001b[0;32m    878\u001b[0m \u001b[43m            \u001b[49m\u001b[43mnewline\u001b[49m\u001b[38;5;241;43m=\u001b[39;49m\u001b[38;5;124;43m\"\u001b[39;49m\u001b[38;5;124;43m\"\u001b[39;49m\u001b[43m,\u001b[49m\n\u001b[0;32m    879\u001b[0m \u001b[43m        \u001b[49m\u001b[43m)\u001b[49m\n\u001b[0;32m    880\u001b[0m     \u001b[38;5;28;01melse\u001b[39;00m:\n\u001b[0;32m    881\u001b[0m         \u001b[38;5;66;03m# Binary mode\u001b[39;00m\n\u001b[0;32m    882\u001b[0m         handle \u001b[38;5;241m=\u001b[39m \u001b[38;5;28mopen\u001b[39m(handle, ioargs\u001b[38;5;241m.\u001b[39mmode)\n",
      "\u001b[1;31mOSError\u001b[0m: [Errno 22] Invalid argument: '../2. Data Extraction\\\\Old Data\\\\Political Factor Data\\rule_of_law_index.csv'"
     ]
    }
   ],
   "source": [
    "import pandas as pd\n",
    "import numpy as np\n",
    "\n",
    "world_development_indicator_df = pd.read_csv(\"../2. Data Extraction\\Old Data\\Multi-Category Factor Data (Added)\\world_bank_group.csv\")\n",
    "income_wages_df = pd.read_csv(\"..\\\\2. Data Extraction\\Old Data\\Economic Factor Data (Added, With Name Mismatches)\\income_wages.csv\")\n",
    "# Solution for selecting a specific sheet of an excel file found from the answer of Vaibhav Jadhav at https://stackoverflow.com/questions/71527992/pandas-dataframe-to-specific-sheet-in-a-excel-file-without-losing-formatting\n",
    "taxes_df = pd.read_excel(\"..\\\\2. Data Extraction\\Old Data\\Economic Factor Data (Added, With Name Mismatches)\\world-imf2024.xlsx\",sheet_name=\"Data\")\n",
    "rule_of_law_df = pd.read_csv(\"../2. Data Extraction\\Old Data\\Political Factor Data\\rule_of_law_index.csv\")\n",
    "\n",
    "\n",
    "\n",
    "country_name = world_development_indicator_df[\"Country Name\"].unique()\n",
    "gdp_growth = []\n",
    "pop_density = []\n",
    "education_years = []\n",
    "gdp_per_capita = []\n",
    "electricity_access = []\n",
    "birth_rate = []\n",
    "young_pop_percentage_male = []\n",
    "young_pop_percentage_female = []\n",
    "\n",
    "\n",
    "# the use of \"index\" below is from a question on the use of iterrows() in a for loop, answered by waitingkuo https://stackoverflow.com/questions/16476924/how-can-i-iterate-over-rows-in-a-pandas-dataframe\n",
    "for index, wdi_df_row in world_development_indicator_df.iterrows():\n",
    "\toutput_value = \"\"\n",
    "\n",
    "\tif wdi_df_row[\"Series Name\"] != \"Population density (people per sq. km of land area)\" and wdi_df_row[\"2023 [YR2023]\"] == \"..\" : output_value = None\n",
    "\telif wdi_df_row[\"Series Name\"] == \"Population density (people per sq. km of land area)\" and wdi_df_row[\"2022 [YR2022]\"] == \"..\" : output_value = None\n",
    "\telse: \n",
    "\t\tif wdi_df_row[\"Series Name\"] != \"Population density (people per sq. km of land area)\": output_value = wdi_df_row[\"2023 [YR2023]\"]\n",
    "\t\telse: output_value = wdi_df_row[\"2022 [YR2022]\"]\n",
    "\n",
    "\tif wdi_df_row[\"Series Name\"] == \"GDP per capita growth (annual %)\": gdp_growth.append(output_value)\n",
    "\telif wdi_df_row[\"Series Name\"] == \"Population density (people per sq. km of land area)\": pop_density.append(output_value) # Best set as 2022, since there is no data for any country in 2023\n",
    "\telif wdi_df_row[\"Series Name\"] == \"Compulsory education, duration (years)\": education_years.append(output_value)\n",
    "\telif wdi_df_row[\"Series Name\"] == \"GDP per capita (current US$)\": gdp_per_capita.append(output_value)\n",
    "\telif wdi_df_row[\"Series Name\"] == \"Access to electricity (% of population)\": electricity_access.append(output_value)\n",
    "\telif wdi_df_row[\"Series Name\"] == \"Birth rate, crude (per 1,000 people)\": birth_rate.append(output_value)\n",
    "\telif wdi_df_row[\"Series Name\"] == \"Population ages 20-24, male (% of male population)\": young_pop_percentage_male.append(output_value)\n",
    "\telif wdi_df_row[\"Series Name\"] == \"Population ages 20-24, female (% of female population)\": young_pop_percentage_female.append(output_value)\n",
    "\n",
    "\n",
    "# Figured out how to make an empty list with help from jL4's answer at https://stackoverflow.com/questions/43336837/making-equal-size-lists-in-python\n",
    "avg_hourly_earnings = []\n",
    "avg_hourly_earnings.extend([None] * len(country_name))\n",
    "\n",
    "taxes_percentage = []\n",
    "taxes_percentage.extend([None] * len(country_name))\n",
    "\n",
    "fundamental_rights = []\n",
    "fundamental_rights.extend([None] * len(country_name))\n",
    "\n",
    "legal_system_fairness = []\n",
    "legal_system_fairness.extend([None] * len(country_name))\n",
    "\n",
    "df = pd.DataFrame({\n",
    "\t\"Country Name\":country_name,\n",
    "\t\"GDP per capita growth (annual %)\":gdp_growth,\n",
    "\t\"Population density (people per sq. km of land area)\":pop_density,\n",
    "\t\"Compulsory education, duration (years)\":education_years,\n",
    "\t\"GDP per capita (current US$)\":gdp_per_capita,\n",
    "\t\"Access to electricity (% of population)\":electricity_access,\n",
    "\t\"Birth rate, crude (per 1,000 people)\":birth_rate,\n",
    "\t\"Population ages 20-24, male (% of male population)\":young_pop_percentage_male,\n",
    "\t\"Population ages 20-24, female (% of female population)\":young_pop_percentage_female,\n",
    "\t\"Average hourly earnings of employees\":avg_hourly_earnings,\n",
    "\t\"Tax revenue, percent of GDP\":taxes_percentage,\n",
    "\t\"Fundamental Rights\":fundamental_rights,\n",
    "\t\"Legal System Fairness\":legal_system_fairness\n",
    "\t})"
   ]
  },
  {
   "cell_type": "markdown",
   "id": "5ae86ffc",
   "metadata": {},
   "source": [
    "#### Adding Average Hourly Earnings"
   ]
  },
  {
   "cell_type": "code",
   "execution_count": null,
   "id": "e0690249",
   "metadata": {},
   "outputs": [
    {
     "ename": "NameError",
     "evalue": "name 'income_wages_df' is not defined",
     "output_type": "error",
     "traceback": [
      "\u001b[1;31m---------------------------------------------------------------------------\u001b[0m",
      "\u001b[1;31mNameError\u001b[0m                                 Traceback (most recent call last)",
      "Cell \u001b[1;32mIn[1], line 1\u001b[0m\n\u001b[1;32m----> 1\u001b[0m \u001b[38;5;28;01mfor\u001b[39;00m index, iw_df_row \u001b[38;5;129;01min\u001b[39;00m \u001b[43mincome_wages_df\u001b[49m\u001b[38;5;241m.\u001b[39miterrows():\n\u001b[0;32m      2\u001b[0m \tname_mismatched \u001b[38;5;241m=\u001b[39m \u001b[38;5;124m\"\u001b[39m\u001b[38;5;124m\"\u001b[39m\n\u001b[0;32m      4\u001b[0m \t\u001b[38;5;66;03m# Solution for checking existence of matching country names in the main dataframe found from Akram's answer at https://stackoverflow.com/questions/21319929/how-to-determine-whether-a-pandas-column-contains-a-particular-value\u001b[39;00m\n",
      "\u001b[1;31mNameError\u001b[0m: name 'income_wages_df' is not defined"
     ]
    }
   ],
   "source": [
    "for index, iw_df_row in income_wages_df.iterrows():\n",
    "\tname_mismatched = \"\"\n",
    "\n",
    "\t# Solution for checking existence of matching country names in the main dataframe found from Akram's answer at https://stackoverflow.com/questions/21319929/how-to-determine-whether-a-pandas-column-contains-a-particular-value\n",
    "\tif iw_df_row[\"ref_area.label\"] in df[\"Country Name\"].values:\n",
    "\t\tfor index, df_row in df.iterrows():\n",
    "\t\t\tif df_row[\"Country Name\"] == iw_df_row[\"ref_area.label\"]:\n",
    "\t\t\t\tdf_row[\"Average hourly earnings of employees\"] = iw_df_row[\"obs_value\"]\n",
    "\t\t\t\tbreak\n",
    "\t# hardcoding was required for these countries. Due to the mismatch of country name, they triggered the else block below\n",
    "\telif iw_df_row[\"ref_area.label\"] == \"Egypt\": name_mismatched = \"Egypt, Arab Rep.\"\n",
    "\telif iw_df_row[\"ref_area.label\"] == \"United Kingdom of Great Britain and Northern Ireland\": name_mismatched = \"United Kingdom\"\n",
    "\telif iw_df_row[\"ref_area.label\"] == \"Republic of Korea\": name_mismatched = \"Korea, Rep.\" # determined to be south korea https://history.state.gov/countries/korea-south#:~:text=Republic%20of%20Korea%20(South%20Korea,Countries%20%2D%20Office%20of%20the%20Historian\n",
    "\telif iw_df_row[\"ref_area.label\"] == \"Republic of Moldova\": name_mismatched = \"Moldova\"\n",
    "\telif iw_df_row[\"ref_area.label\"] == \"Slovakia\": name_mismatched = \"Slovak Republic\"\n",
    "\telif iw_df_row[\"ref_area.label\"] == \"Türkiye\": name_mismatched = \"Turkiye\"\n",
    "\telif iw_df_row[\"ref_area.label\"] == \"Tanzania, United Republic of\": name_mismatched = \"Tanzania\"\n",
    "\telif iw_df_row[\"ref_area.label\"] == \"United States of America\": name_mismatched = \"United States\"\n",
    "\telse:\n",
    "\t\tprint(iw_df_row[\"ref_area.label\"])\n",
    "\t\tprint(\"I do not exist\")\n",
    "\tfor index, df_row in df.iterrows():\n",
    "\t\tif df_row[\"Country Name\"] == name_mismatched:\n",
    "\t\t\tdf_row[\"Average hourly earnings of employees\"] = iw_df_row[\"obs_value\"]\n",
    "\t\t\t# print(\"Successfully assigned \", df_row[\"Country Name\"],\" the value \",iw_df_row[\"obs_value\"])\n",
    "\t\t\tbreak"
   ]
  },
  {
   "cell_type": "markdown",
   "id": "6c3050bc",
   "metadata": {},
   "source": [
    "#### Adding Tax Revenue"
   ]
  },
  {
   "cell_type": "code",
   "execution_count": null,
   "id": "60e882e7",
   "metadata": {},
   "outputs": [],
   "source": [
    "count = 0\n",
    "for index, tax_df_row in taxes_df.iterrows():\n",
    "\tif tax_df_row[\"year\"] != 2019: continue\n",
    "\telif tax_df_row[\"property_ShortForm_en_displayNam\"] in df[\"Country Name\"].values:\n",
    "\t\tfor index, df_row in df.iterrows():\n",
    "\t\t\tif df_row[\"Country Name\"] == tax_df_row[\"property_ShortForm_en_displayNam\"]:\n",
    "\t\t\t\tdf_row[\"Tax revenue, percent of GDP\"] = tax_df_row[\"TaxRev\"]\n",
    "\t\t\t\tbreak\n",
    "\telse:\n",
    "\t\tprint(tax_df_row[\"property_ShortForm_en_displayNam\"])\n",
    "\t\tprint(\"I do not exist\")\n",
    "\t\tcount += 1\n",
    "\n",
    "print(count)"
   ]
  },
  {
   "cell_type": "markdown",
   "id": "063bec63",
   "metadata": {},
   "source": [
    "#### Adding Rule Of Law Index"
   ]
  },
  {
   "cell_type": "code",
   "execution_count": null,
   "id": "38431d53",
   "metadata": {},
   "outputs": [],
   "source": [
    "count = 0\n",
    "for index, rol_df_row in rule_of_law_df.iterrows():\n",
    "\tif rol_df_row[\"Country\"] in df[\"Country Name\"].values:\n",
    "\t\tfor index, df_row in df.iterrows():\n",
    "\t\t\tif df_row[\"Country Name\"] == rol_df_row[\"Country\"]:\n",
    "\t\t\t\tdf_row[\"Fundamental Rights\"] = rol_df_row[\"Fundamental Rights\"]\n",
    "\t\t\t\tdf_row[\"Legal System Fairness\"] = rol_df_row[\"Civil Justice + Criminal Justice\"]\n",
    "\t\t\t\tbreak\n",
    "\telse:\n",
    "\t\tprint(rol_df_row[\"Country\"])\n",
    "\t\tprint(\"I do not exist\")\n",
    "\t\tcount += 1\n",
    "\n",
    "print(count)"
   ]
  },
  {
   "cell_type": "markdown",
   "id": "e5a06fd8",
   "metadata": {},
   "source": [
    "#### Checking Null Values"
   ]
  },
  {
   "cell_type": "code",
   "execution_count": null,
   "id": "9ea84d52",
   "metadata": {},
   "outputs": [],
   "source": [
    "df.isnull().sum()\n",
    "# NULL VALUES:\n",
    "#  Access to electricity (% of population)                    2\n",
    "#  GDP per capita (current US$)                              22\n",
    "#  Compulsory education, duration (years)                    20\n",
    "#  Population density (people per sq. km of land area)        7\n",
    "#  GDP per capita growth (annual %)                          22\n",
    "#  Average hourly earnings of employees                     164\n",
    "#  Tax revenue, percent of GDP                               43"
   ]
  }
 ],
 "metadata": {
  "kernelspec": {
   "display_name": "Python 3",
   "language": "python",
   "name": "python3"
  },
  "language_info": {
   "codemirror_mode": {
    "name": "ipython",
    "version": 3
   },
   "file_extension": ".py",
   "mimetype": "text/x-python",
   "name": "python",
   "nbconvert_exporter": "python",
   "pygments_lexer": "ipython3",
   "version": "3.11.9"
  }
 },
 "nbformat": 4,
 "nbformat_minor": 5
}
